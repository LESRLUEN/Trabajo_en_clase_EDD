{
  "nbformat": 4,
  "nbformat_minor": 0,
  "metadata": {
    "colab": {
      "name": "ListasLigadasADT_1310.ipynb",
      "provenance": [],
      "mount_file_id": "1HYUkrCBVwL9UhPbJE7E_qbKMNjtKbTgd",
      "authorship_tag": "ABX9TyOPF6x1UV+BHT9oFuZHNGZi",
      "include_colab_link": true
    },
    "kernelspec": {
      "name": "python3",
      "display_name": "Python 3"
    },
    "language_info": {
      "name": "python"
    }
  },
  "cells": [
    {
      "cell_type": "markdown",
      "metadata": {
        "id": "view-in-github",
        "colab_type": "text"
      },
      "source": [
        "<a href=\"https://colab.research.google.com/github/LESRLUEN/Trabajo_en_clase_EDD/blob/main/ListasLigadasADT_1310.ipynb\" target=\"_parent\"><img src=\"https://colab.research.google.com/assets/colab-badge.svg\" alt=\"Open In Colab\"/></a>"
      ]
    },
    {
      "cell_type": "markdown",
      "metadata": {
        "id": "T1mkF-9SvWUi"
      },
      "source": [
        "# Ejercicios con la clase Nodo\n",
        "\n",
        "- Crear un nodo 10\n",
        "    - Imprimir el valor del nodo\n",
        "- Crear dos nodos 10, 20\n",
        "    - Imprimir el valor del primero\n",
        "    - Imprimir el valor del segundo\n",
        "    - transversal\n",
        "- Lo mismo pero con 4 nodos 10, 20 , 30 , 40\n",
        "    - Imprimir el valor del primero\n",
        "    - Imprimir el valor del último\n",
        "    - Transversal\n",
        "    - Insertar el Nodo 25, después del Nodo 20 y antes del Nodo 30\n",
        "\n",
        "### Todo esto antes de ir a la escritura formal del ADT Lista ligada"
      ]
    },
    {
      "cell_type": "code",
      "metadata": {
        "id": "BUBRjfJH9Nqd"
      },
      "source": [
        "class Nodo:\n",
        "    def __init__(self , value, siguiente = None ):\n",
        "        self.data = value\n",
        "        self.next = siguiente\n"
      ],
      "execution_count": 1,
      "outputs": []
    },
    {
      "cell_type": "code",
      "metadata": {
        "colab": {
          "base_uri": "https://localhost:8080/"
        },
        "id": "6zjhduXh7hjO",
        "outputId": "941948e7-0222-44e0-837a-4df6423ee236"
      },
      "source": [
        "head = Nodo(10)\n",
        "print( head.data )"
      ],
      "execution_count": 2,
      "outputs": [
        {
          "output_type": "stream",
          "name": "stdout",
          "text": [
            "10\n"
          ]
        }
      ]
    },
    {
      "cell_type": "code",
      "metadata": {
        "colab": {
          "base_uri": "https://localhost:8080/"
        },
        "id": "406K0vLR77ys",
        "outputId": "aa78a2b8-9655-41bb-b80b-a418399aa691"
      },
      "source": [
        "head = Nodo(10)\n",
        "head.next = Nodo( 20 )\n",
        "print(f\"Primero= {head.data}\")\n",
        "print(f\"Segundo= {head.next.data} \")\n",
        "\n",
        "# Lo mismo pero ahorrando código\n",
        "head = Nodo( 10 , Nodo(20) )\n",
        "print(f\"Primero= {head.data}\")\n",
        "print(f\"Segundo={head.next.data} \")\n",
        "\n",
        "#Transversal\n",
        "curr_node = head\n",
        "while curr_node != None:\n",
        "    print(f\"| {curr_node.data } | --> \" , end=\"\")\n",
        "    curr_node = curr_node.next\n",
        "print(\"\")"
      ],
      "execution_count": 3,
      "outputs": [
        {
          "output_type": "stream",
          "name": "stdout",
          "text": [
            "Primero= 10\n",
            "Segundo= 20 \n",
            "Primero= 10\n",
            "Segundo=20 \n",
            "| 10 | --> | 20 | --> \n"
          ]
        }
      ]
    },
    {
      "cell_type": "code",
      "metadata": {
        "colab": {
          "base_uri": "https://localhost:8080/"
        },
        "id": "H_n_K59PvkWq",
        "outputId": "70745d59-e224-4998-ad19-01bc5347e733"
      },
      "source": [
        "head= Nodo(10, Nodo(20, Nodo(30, Nodo(40))))\n",
        "curr_node = head\n",
        "while curr_node != None:\n",
        "    print(f\"| {curr_node.data } | --> \" , end=\"\")\n",
        "    curr_node = curr_node.next\n",
        "print(\"\")\n",
        "#Imprimir el Primero\n",
        "print(head.data)\n",
        "#Imprimir el último\n",
        "curr_node = head\n",
        "while curr_node.next != None:\n",
        "    curr_node= curr_node.next\n",
        "print(curr_node.data)\n",
        "\n",
        "#Insertar el Nodo 25, después del Nodo 20 y antes del Nodo 30\n",
        "curr_node = head\n",
        "while curr_node.data != 20:\n",
        "    curr_node = curr_node.next\n",
        "print(curr_node.data)\n",
        "\n",
        "# Crear el 25\n",
        "curr_node.next = Nodo(25, curr_node.next)\n",
        "print(\"DESPUÉS DE INSERTAR 25\")\n",
        "\n",
        "while curr_node != None:\n",
        "    print(f\"| {curr_node.data } | --> \" , end=\"\")\n",
        "    curr_node = curr_node.next\n",
        "print(\"\")"
      ],
      "execution_count": 4,
      "outputs": [
        {
          "output_type": "stream",
          "name": "stdout",
          "text": [
            "| 10 | --> | 20 | --> | 30 | --> | 40 | --> \n",
            "10\n",
            "40\n",
            "20\n",
            "DESPUÉS DE INSERTAR 25\n",
            "| 20 | --> | 25 | --> | 30 | --> | 40 | --> \n"
          ]
        }
      ]
    },
    {
      "cell_type": "code",
      "metadata": {
        "id": "8JPqwzrFvnBV"
      },
      "source": [
        "class LinkedList:\n",
        "    def __init__( self ):\n",
        "        self.head = None\n",
        "\n",
        "    def is_empty( self ):\n",
        "        return self.head == None\n",
        "\n",
        "    def get_tail( self ):\n",
        "        if self.is_empty():\n",
        "            return None\n",
        "        else:\n",
        "            curr_node = self.head\n",
        "            while curr_node.next != None:\n",
        "                curr_node = curr_node.next\n",
        "            return curr_node\n",
        "\n",
        "    def append( self , value ):\n",
        "        if self.head == None:\n",
        "            self.head = Nodo( value )\n",
        "        else:\n",
        "            curr_node =self.head\n",
        "            while curr_node.next !=None:\n",
        "                curr_node = curr_node.next\n",
        "            curr_node.next = Nodo( value )    \n",
        "\n",
        "    def transversal( self ):\n",
        "        curr_node = self.head\n",
        "        while curr_node !=None:\n",
        "            print(f\"| { curr_node.data} | --> \", end=\"\")\n",
        "            curr_node = curr_node.next\n",
        "        print(\"\")\n",
        "\n",
        "    def remove( self , value ):\n",
        "        if self.head == None:\n",
        "            print(\"Lista vacía, no se puede remover nada\")\n",
        "        else:\n",
        "            curr_node = self.head\n",
        "            aux= None\n",
        "            while curr_node.data != value : #Revisar cuando el valor no existe \n",
        "                aux= curr_node\n",
        "                curr_node = curr_node.next\n",
        "\n",
        "            if curr_node != None:\n",
        "                  aux.next = curr_node.next  \n",
        "                  curr_node = None\n",
        "\n",
        "\n",
        "    def preppend( self , value ):\n",
        "        if self.head == None:\n",
        "            print(\" Está vacío, no se puede hacer preppend\")\n",
        "        else:\n",
        "            self.head = Nodo( value , self.head)\n",
        "\n"
      ],
      "execution_count": 5,
      "outputs": []
    },
    {
      "cell_type": "code",
      "metadata": {
        "colab": {
          "base_uri": "https://localhost:8080/"
        },
        "id": "iU3E6kkivrpx",
        "outputId": "d2f9cea3-28c3-48f7-fce9-e51feef1854e"
      },
      "source": [
        "lista = LinkedList()\n",
        "if lista.is_empty():\n",
        "    print(\"La lista está vacía\")\n",
        "else:\n",
        "    print(\" La lista no está vacía\")\n",
        "\n",
        "lista.append(10)\n",
        "lista.append(20)\n",
        "lista.append(30)\n",
        "lista.append(40)\n",
        "lista.append(50)\n",
        "\n",
        "nodo = lista.get_tail()\n",
        "if nodo !=None:\n",
        "    print(nodo.data)\n",
        "else: \n",
        "    print(\"Lista está vacía\")\n",
        "\n",
        "lista.transversal()\n",
        "lista.remove(30)\n",
        "lista.transversal()\n",
        "lista.preppend(5)\n",
        "print(\"Después del preppend\")\n",
        "lista.transversal()"
      ],
      "execution_count": 6,
      "outputs": [
        {
          "output_type": "stream",
          "name": "stdout",
          "text": [
            "La lista está vacía\n",
            "50\n",
            "| 10 | --> | 20 | --> | 30 | --> | 40 | --> | 50 | --> \n",
            "| 10 | --> | 20 | --> | 40 | --> | 50 | --> \n",
            "Después del preppend\n",
            "| 5 | --> | 10 | --> | 20 | --> | 40 | --> | 50 | --> \n"
          ]
        }
      ]
    }
  ]
}