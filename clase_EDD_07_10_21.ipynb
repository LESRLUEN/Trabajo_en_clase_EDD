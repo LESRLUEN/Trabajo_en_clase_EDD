{
  "nbformat": 4,
  "nbformat_minor": 0,
  "metadata": {
    "colab": {
      "name": "clase_EDD_07_10_21.ipynb",
      "provenance": [],
      "authorship_tag": "ABX9TyNIHH59HiCUTsH5iW8eAk7X",
      "include_colab_link": true
    },
    "kernelspec": {
      "name": "python3",
      "display_name": "Python 3"
    },
    "language_info": {
      "name": "python"
    }
  },
  "cells": [
    {
      "cell_type": "markdown",
      "metadata": {
        "id": "view-in-github",
        "colab_type": "text"
      },
      "source": [
        "<a href=\"https://colab.research.google.com/github/LESRLUEN/Trabajo_en_clase_EDD/blob/main/clase_EDD_07_10_21.ipynb\" target=\"_parent\"><img src=\"https://colab.research.google.com/assets/colab-badge.svg\" alt=\"Open In Colab\"/></a>"
      ]
    },
    {
      "cell_type": "code",
      "metadata": {
        "colab": {
          "base_uri": "https://localhost:8080/"
        },
        "id": "bWUAf4NbnnNL",
        "outputId": "8f70d0f7-258c-4a93-845e-7ca3c185603f"
      },
      "source": [
        "!ls"
      ],
      "execution_count": 1,
      "outputs": [
        {
          "output_type": "stream",
          "name": "stdout",
          "text": [
            "junio.dat  sample_data\n"
          ]
        }
      ]
    },
    {
      "cell_type": "code",
      "metadata": {
        "colab": {
          "base_uri": "https://localhost:8080/"
        },
        "id": "lSs193d-oSkc",
        "outputId": "95b4d1b3-c868-4d73-85f9-32d3f1921098"
      },
      "source": [
        "!cat junio.dat"
      ],
      "execution_count": 2,
      "outputs": [
        {
          "output_type": "stream",
          "name": "stdout",
          "text": [
            "numero de trabajador, nombres, paterno, materno, horas extra, sueldo base, año de ingreso\r\n",
            "2345,CARLOS,PEREZ,CASTILLO,0,9850,2017\r\n",
            "5754,ANGEL,GOMEZ,GARRIDO,1,9850,2020\r\n",
            "5345,JESUS,MARTIN,SANTOS,2,9850,2016\r\n",
            "3267,DAVID,JIMENEZ,LOZANO,2,9850,2017\r\n",
            "8765,PEDRO,RUIZ,GUERRERO,2,9850,2017\r\n",
            "5454,DANIEL,HERNANDEZ,CANO,3,9850,2018\r\n",
            "3456,ALEJANDRO,DIAZ,PRIETO,2,9850,2018\r\n",
            "3445,MARIA,MORENO,MENDEZ,1,9850,2018\r\n",
            "9088,ALBERTO,MU�OZ,CRUZ,1,9850,2017\r\n",
            "8877,RAFAEL,ALVAREZ,FLORES,2,9850,2017\r\n",
            "6767,FERNANDO,ROMERO,HERRERA,4,9850,2019\r\n",
            "5654,PABLO,ALONSO,GALLEGO,1,9850,2019\r\n",
            "4323,JORGE,GUTIERREZ,MARQUEZ,2,9850,2020\r\n",
            "2232,RAMON,NAVARRO,LEON,1,9850,2016"
          ]
        }
      ]
    },
    {
      "cell_type": "code",
      "metadata": {
        "colab": {
          "base_uri": "https://localhost:8080/"
        },
        "id": "5AiDAn4HqWLf",
        "outputId": "ab778cf3-0cc2-4def-d96c-aa9cc2c8aa51"
      },
      "source": [
        "archivo = open( 'junio.dat', 'rt', encoding='latin-1')\n",
        "print(archivo.read())"
      ],
      "execution_count": 5,
      "outputs": [
        {
          "output_type": "stream",
          "name": "stdout",
          "text": [
            "numero de trabajador, nombres, paterno, materno, horas extra, sueldo base, aÃ±o de ingreso\n",
            "2345,CARLOS,PEREZ,CASTILLO,0,9850,2017\n",
            "5754,ANGEL,GOMEZ,GARRIDO,1,9850,2020\n",
            "5345,JESUS,MARTIN,SANTOS,2,9850,2016\n",
            "3267,DAVID,JIMENEZ,LOZANO,2,9850,2017\n",
            "8765,PEDRO,RUIZ,GUERRERO,2,9850,2017\n",
            "5454,DANIEL,HERNANDEZ,CANO,3,9850,2018\n",
            "3456,ALEJANDRO,DIAZ,PRIETO,2,9850,2018\n",
            "3445,MARIA,MORENO,MENDEZ,1,9850,2018\n",
            "9088,ALBERTO,MUOZ,CRUZ,1,9850,2017\n",
            "8877,RAFAEL,ALVAREZ,FLORES,2,9850,2017\n",
            "6767,FERNANDO,ROMERO,HERRERA,4,9850,2019\n",
            "5654,PABLO,ALONSO,GALLEGO,1,9850,2019\n",
            "4323,JORGE,GUTIERREZ,MARQUEZ,2,9850,2020\n",
            "2232,RAMON,NAVARRO,LEON,1,9850,2016\n"
          ]
        }
      ]
    },
    {
      "cell_type": "code",
      "metadata": {
        "id": "4Rr29beLoXhT"
      },
      "source": [
        "class Trabajador:\n",
        "    def __init__(self , nt , nom , ,pat , mat , he , sb , ai )\n",
        "        self.__numero_trabajador = nt \n",
        "        # asi para cada atributo\n",
        "\n",
        "\n",
        "    # aqui van todos los metodos de acceso\n",
        "    def set_numero_trabajador( self , nt):\n",
        "        self.__numero_trabajador = nt \n",
        "\n",
        "\n",
        "    # metodo de uso general. ----> metodos que hacen calculos de la logica\n",
        "    "
      ],
      "execution_count": null,
      "outputs": []
    },
    {
      "cell_type": "code",
      "metadata": {
        "id": "4Y6Z_hQKqICx"
      },
      "source": [
        "class Nomina:\n",
        "    def __init__( self , ruta_archivo):\n",
        "        #abrir el archivo y determinar el numnero de empleados ---- > numerode empleado\n",
        "        self.__data = array( num_emp )\n",
        "\n",
        "    def calcular_sueldos( self ):\n",
        "        #iterar sobre el array y hacer el calculo  de suledos \n",
        "\n",
        "    def buscar_mas_antiguao]( self ):\n",
        "        #iterar y buscara en el array el de mayor antiguedad\n",
        "\n",
        "    def buscar_menor_antiguedad( self )\n",
        "    #idem"
      ],
      "execution_count": null,
      "outputs": []
    },
    {
      "cell_type": "code",
      "metadata": {
        "colab": {
          "base_uri": "https://localhost:8080/"
        },
        "id": "aTggg0A3sfDL",
        "outputId": "f7225d6a-51c5-4578-c0b4-a76da4df6f90"
      },
      "source": [
        "sueldo_base = 100\n",
        "anio=2019\n",
        "anti = 2\n",
        "prestacion = 100 *(2*0.03)\n",
        "print(sueldo_base + prestacion)"
      ],
      "execution_count": 6,
      "outputs": [
        {
          "output_type": "stream",
          "name": "stdout",
          "text": [
            "106.0\n"
          ]
        }
      ]
    }
  ]
}