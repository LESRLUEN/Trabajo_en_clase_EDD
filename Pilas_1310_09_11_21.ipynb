{
  "nbformat": 4,
  "nbformat_minor": 0,
  "metadata": {
    "colab": {
      "name": "Pilas_1310.ipynb",
      "provenance": [],
      "authorship_tag": "ABX9TyMKIyXawWS16pDSoqW0KnS/",
      "include_colab_link": true
    },
    "kernelspec": {
      "name": "python3",
      "display_name": "Python 3"
    },
    "language_info": {
      "name": "python"
    }
  },
  "cells": [
    {
      "cell_type": "markdown",
      "metadata": {
        "id": "view-in-github",
        "colab_type": "text"
      },
      "source": [
        "<a href=\"https://colab.research.google.com/github/LESRLUEN/Trabajo_en_clase_EDD/blob/main/Pilas_1310_09_11_21.ipynb\" target=\"_parent\"><img src=\"https://colab.research.google.com/assets/colab-badge.svg\" alt=\"Open In Colab\"/></a>"
      ]
    },
    {
      "cell_type": "code",
      "metadata": {
        "id": "PC9XZNkf07eU"
      },
      "source": [
        "class StackADT:\n",
        "    def __init__( self ):\n",
        "        self.__data = list()\n",
        "\n",
        "    #regresa true si la pila está vcacia\n",
        "    def is_empty( self ):\n",
        "         return len( self.__data ) == 0\n",
        "\n",
        "    def get_length( self ):\n",
        "        return len( self.__data)\n",
        "\n",
        "    def pop( self ):\n",
        "        if self.is_empty():\n",
        "            print(\"Pila vacia, nada que sacar\")\n",
        "        else:\n",
        "            return self.__data.pop()\n",
        "\n",
        "    def peek( self ):\n",
        "        if self.is_empty():\n",
        "            print(\"Pila vacia, nada que sacar\")\n",
        "        else:\n",
        "            return self.__data[ -1 ]\n",
        "\n",
        "    def push( self, value ):\n",
        "        self.__data.append( value)\n",
        "\n",
        "    def to_string(self):\n",
        "        for item in self.__data[::-1]:\n",
        "            print(f\"| { item } |\")"
      ],
      "execution_count": 18,
      "outputs": []
    },
    {
      "cell_type": "code",
      "metadata": {
        "colab": {
          "base_uri": "https://localhost:8080/"
        },
        "id": "-ZVZAy3506zV",
        "outputId": "9821255d-591d-41db-90cd-a70bfa898865"
      },
      "source": [
        "pila = StackADT()\n",
        "print(\"Esta vacia? =\", pila.is_empty() )\n",
        "print(\"# elemnentos: \", pila.get_length() )\n",
        "pila.push(10)\n",
        "print(\"Esta vacia? =\", pila.is_empty() )\n",
        "print(\"# elemnentos: \", pila.get_length() )\n",
        "pila.push(20)\n",
        "pila.push(30)\n",
        "pila.push(40)\n",
        "pila.to_string()\n",
        "print( pila.pop() ) #40\n",
        "print( pila.peek() ) #30\n",
        "pila.to_string()"
      ],
      "execution_count": 19,
      "outputs": [
        {
          "output_type": "stream",
          "name": "stdout",
          "text": [
            "Esta vacia? = True\n",
            "# elemnentos:  0\n",
            "Esta vacia? = False\n",
            "# elemnentos:  1\n",
            "| 40 |\n",
            "| 30 |\n",
            "| 20 |\n",
            "| 10 |\n",
            "40\n",
            "30\n",
            "| 30 |\n",
            "| 20 |\n",
            "| 10 |\n"
          ]
        }
      ]
    },
    {
      "cell_type": "markdown",
      "metadata": {
        "id": "xSa0Qp0r_p13"
      },
      "source": [
        "#Aplicacion de pilas, balanceo de llaves en programacion"
      ]
    },
    {
      "cell_type": "code",
      "metadata": {
        "colab": {
          "base_uri": "https://localhost:8080/"
        },
        "id": "QA-9ZSyJsP52",
        "outputId": "94862f25-96fd-4a8f-bd10-0d3cf92aeeac"
      },
      "source": [
        "!cat prog.txt"
      ],
      "execution_count": 20,
      "outputs": [
        {
          "output_type": "stream",
          "name": "stdout",
          "text": [
            "#include <stdio.h>\r\n",
            "int main()\r\n",
            "{\r\n",
            "    int num, count, sum = 0;\r\n",
            "\r\n",
            "    printf(\"Enter a positive integer: \");\r\n",
            "    scanf(\"%d\", &num);\r\n",
            "\r\n",
            "    // for loop terminates when num is less than count\r\n",
            "    for(count = 1; count <= num; ++count)\r\n",
            "    {\r\n",
            "        sum += count;\r\n",
            "    }\r\n",
            "\r\n",
            "    printf(\"Sum = %d\", sum);\r\n",
            "\r\n",
            "    return 0;\r\n",
            "}"
          ]
        }
      ]
    },
    {
      "cell_type": "code",
      "metadata": {
        "colab": {
          "base_uri": "https://localhost:8080/"
        },
        "id": "2EHE_4HZzx_Y",
        "outputId": "daca6c43-456b-46c8-d63a-86c586d09217"
      },
      "source": [
        "entrada = open('prog.txt' , 'rt')\n",
        "codigo = entrada.read()\n",
        "#print(codigo)\n",
        "pilaControl = StackADT()\n",
        "pilaControl.push(\"#\") # Caracter de pila vacia\n",
        "\n",
        "for letra in codigo:\n",
        "    #print(f\"---> { letra } <---\")\n",
        "    if letra == '{':    #Regla 1\n",
        "        pilaControl.push(\"{\")\n",
        "    elif letra == '}':  #Regla 2\n",
        "        basura = pilaControl.pop()\n",
        "    else:\n",
        "        pass\n",
        "\n",
        "#Nota: Este  codigo aun no contempla desbalanceo\n",
        "if pilaControl.peek() == '#':\n",
        "    print(\"El codigo proporcionado esta correctamnete balanceado\")\n",
        "else:\n",
        "    print(\"El codigo no esta balanceado en llaves { y } \")"
      ],
      "execution_count": 21,
      "outputs": [
        {
          "output_type": "stream",
          "name": "stdout",
          "text": [
            "El codigo proporcionado esta correctamnete balanceado\n"
          ]
        }
      ]
    },
    {
      "cell_type": "markdown",
      "metadata": {
        "id": "c7n0VoiV_xyE"
      },
      "source": [
        "#Aplicacion de Pilas\n",
        "\n",
        "#Estrategía de diseños de algoritmos BACKTRACKING"
      ]
    },
    {
      "cell_type": "code",
      "metadata": {
        "id": "CRavoxwoAJJQ"
      },
      "source": [
        ""
      ],
      "execution_count": null,
      "outputs": []
    }
  ]
}