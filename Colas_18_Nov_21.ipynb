{
  "nbformat": 4,
  "nbformat_minor": 0,
  "metadata": {
    "colab": {
      "name": "Colas.ipynb",
      "provenance": [],
      "authorship_tag": "ABX9TyMzORIGsKsJu1OPS/VcSoLq",
      "include_colab_link": true
    },
    "kernelspec": {
      "name": "python3",
      "display_name": "Python 3"
    },
    "language_info": {
      "name": "python"
    }
  },
  "cells": [
    {
      "cell_type": "markdown",
      "metadata": {
        "id": "view-in-github",
        "colab_type": "text"
      },
      "source": [
        "<a href=\"https://colab.research.google.com/github/LESRLUEN/Trabajo_en_clase_EDD/blob/main/Colas_18_Nov_21.ipynb\" target=\"_parent\"><img src=\"https://colab.research.google.com/assets/colab-badge.svg\" alt=\"Open In Colab\"/></a>"
      ]
    },
    {
      "cell_type": "code",
      "metadata": {
        "id": "4dF0wAm9KEvZ"
      },
      "source": [
        "class Queue:\n",
        "    def __init__( self ):\n",
        "        self.data = []\n",
        "\n",
        "    def is_empty( self ):\n",
        "         return len( self.data ) == 0\n",
        "\n",
        "    def length( self ):\n",
        "         return len( self.data )\n",
        "\n",
        "    def enqueue( self, value ):\n",
        "        self.data.append( value ) \n",
        "\n",
        "    def dequeue( self ):\n",
        "        if self.is_empty():\n",
        "            print(\"no se puede quitar mas elementos, la cola esta vacia\")\n",
        "        else:     \n",
        "            return self.data.pop(0)\n",
        "\n",
        "    def to_string( self ):\n",
        "        for elem in self.data:\n",
        "            print(f\"| { elem } | <--\", end=\"\" )\n",
        "        print(\"\")"
      ],
      "execution_count": 42,
      "outputs": []
    },
    {
      "cell_type": "code",
      "metadata": {
        "colab": {
          "base_uri": "https://localhost:8080/"
        },
        "id": "VaWQzjCcNiXl",
        "outputId": "d4b0fb19-538e-483b-9ebc-5b4309e323ee"
      },
      "source": [
        "cola = Queue()\n",
        "print(\"Esta vacio¿?: \", cola.is_empty())\n",
        "print(\"Numero de elementos = \", cola.length)\n",
        "cola.enqueue(10)\n",
        "cola.enqueue(20)\n",
        "cola.enqueue(30)\n",
        "print(\"Esta vacio¿?: \", cola.is_empty())\n",
        "print(\"Numero de elementos = \", cola.length)\n",
        "cola.enqueue(40)\n",
        "cola.enqueue(50)\n",
        "cola.enqueue(60)\n",
        "cola.to_string\n",
        "siguiente =cola.dequeue()\n",
        "print(\"Atendiendo a: \", siguiente)"
      ],
      "execution_count": 43,
      "outputs": [
        {
          "output_type": "stream",
          "name": "stdout",
          "text": [
            "Esta vacio¿?:  True\n",
            "Numero de elementos =  <bound method Queue.length of <__main__.Queue object at 0x7feb35d5f0d0>>\n",
            "Esta vacio¿?:  False\n",
            "Numero de elementos =  <bound method Queue.length of <__main__.Queue object at 0x7feb35d5f0d0>>\n",
            "Atendiendo a:  10\n"
          ]
        }
      ]
    },
    {
      "cell_type": "markdown",
      "metadata": {
        "id": "dxm5pRtDQpkR"
      },
      "source": [
        "#Variantes del ADT Cola\n",
        "1. Circulares\n",
        "2. Prioridad\n",
        "    1. Acotada\n",
        "    1. No acotada"
      ]
    },
    {
      "cell_type": "code",
      "metadata": {
        "id": "elYD6FF_Dv0B"
      },
      "source": [
        "#Implementacion de la cola de prioridad acotada\n",
        "\n",
        "class BoundedPriorityQueue:\n",
        "    def __init__( self , niveles):\n",
        "        self.__data = [ Queue() for x in range(niveles) ]\n",
        "        #slef.__data = Array(niveles)\n",
        "        #self.__data.clear( Queue() )\n",
        "        self.__size = 0\n",
        "\n",
        "    def is_empty( self ):\n",
        "        return self.__size == 0\n",
        "\n",
        "    def length( self ):\n",
        "        return self.__size\n",
        "\n",
        "    def enqueue( self , prioridad , elem ):\n",
        "        if prioridad < len( self.__data ) \\\n",
        "            and prioridad >= 0:\n",
        "            self.__data[ prioridad ].enqueue( elem )\n",
        "            self.__size +=1\n",
        "\n",
        "    def dequeue( self ):\n",
        "        nivel = 0\n",
        "        while self.__data[nivel].is_empty() \\\n",
        "                and nivel < self.length():\n",
        "            nivel +=1\n",
        "\n",
        "        if nivel >= self.length():\n",
        "            print(\"Cola esta vacia\")\n",
        "        else:\n",
        "            return self.__data[ nivel ].dequeue()\n",
        "\n",
        "    def to_string( self ):\n",
        "        prioridad = 0\n",
        "        for cola in self.__data:\n",
        "            print(f\"Prioridad {prioridad} ->\", end=\"\")\n",
        "            if not cola.is_empty():\n",
        "                cola.to_string()\n",
        "                prioridad +=1\n",
        "\n",
        "\n",
        "        \n"
      ],
      "execution_count": 33,
      "outputs": []
    },
    {
      "cell_type": "code",
      "metadata": {
        "colab": {
          "base_uri": "https://localhost:8080/"
        },
        "id": "WwQN7LMPKQdj",
        "outputId": "81f101b3-9dd3-41d0-ae25-f5024e4218e0"
      },
      "source": [
        "#prueba de la cola con prioridad \n",
        "salvavidas = BoundedPriorityQueue( 7 )\n",
        "salvavidas.enqueue( 4 , \"Maestre\" )\n",
        "salvavidas.enqueue( 1 , \"Niños\" )\n",
        "salvavidas.enqueue( 4 ,\"Mecanicos\")\n",
        "salvavidas.enqueue( 3 , \"Mujeres\" )\n",
        "salvavidas.enqueue( 2 , \"Tercera Edad\" )\n",
        "salvavidas.enqueue( 1 ,\"Niñas\")\n",
        "salvavidas.enqueue( 3 , \"Hombres\" )\n",
        "salvavidas.enqueue( 4 , \"Vigia\" )\n",
        "salvavidas.enqueue( 5 , \"Capitan\" )\n",
        "salvavidas.enqueue( 4 , \"Timonel\" )\n",
        "salvavidas.to_string()\n",
        "print(\"-.-.-.\")\n",
        "sig = salvavidas.dequeue()\n",
        "print(f\"Subiendo { sig } al bote salvavidas\")\n",
        "salvavidas.to_string()"
      ],
      "execution_count": 34,
      "outputs": [
        {
          "output_type": "stream",
          "name": "stdout",
          "text": [
            "Prioridad 0 ->Prioridad 0 ->| Niños| <--| Niñas| <--\n",
            "Prioridad 1 ->| Tercera Edad| <--\n",
            "Prioridad 2 ->| Mujeres| <--| Hombres| <--\n",
            "Prioridad 3 ->| Maestre| <--| Mecanicos| <--| Vigia| <--| Timonel| <--\n",
            "Prioridad 4 ->| Capitan| <--\n",
            "Prioridad 5 ->-.-.-.\n",
            "Subiendo None al bote salvavidas\n",
            "Prioridad 0 ->Prioridad 0 ->| Niñas| <--\n",
            "Prioridad 1 ->| Tercera Edad| <--\n",
            "Prioridad 2 ->| Mujeres| <--| Hombres| <--\n",
            "Prioridad 3 ->| Maestre| <--| Mecanicos| <--| Vigia| <--| Timonel| <--\n",
            "Prioridad 4 ->| Capitan| <--\n",
            "Prioridad 5 ->"
          ]
        }
      ]
    },
    {
      "cell_type": "code",
      "metadata": {
        "id": "QiPKUmm7RxfB"
      },
      "source": [
        "#implementacion de las colas de prioridad sin acontamientos \n",
        "\n",
        "class PriorityQueue:\n",
        "    def __init__(self):\n",
        "        self.__data =[]\n",
        "        self.__size = 0\n",
        "\n",
        "    def is_empty( self ):\n",
        "         return self.__size == 0\n",
        "\n",
        "    def length( self ):\n",
        "         return self.__size\n",
        "\n",
        "    def enqueue(self , prioridad , elem ):\n",
        "        existe = False\n",
        "        indice = 0\n",
        "        for index in range(len(self.__data)):\n",
        "            if self.__data[index][ \"prioridad\" ] == prioridad:\n",
        "                existe = True\n",
        "                indice = index\n",
        "        \n",
        "        if existe:\n",
        "            self.__data[indice][\"cola\"].enqueue(elem)\n",
        "        else:\n",
        "            self.__data.append( {\"prioridad\":prioridad , \"cola\": Queue() } )\n",
        "            self.__data[-1][\"cola\"].enqueue(elem)\n",
        "\n",
        "    def to_string( self ):\n",
        "        for cola in self.__data:\n",
        "            cola[\"cola\"].to_string()"
      ],
      "execution_count": 44,
      "outputs": []
    },
    {
      "cell_type": "code",
      "metadata": {
        "colab": {
          "base_uri": "https://localhost:8080/"
        },
        "id": "2ZMZn_VaWhBA",
        "outputId": "5bdcd4af-4ce6-4ff8-937b-2ef1efc1e273"
      },
      "source": [
        "cp = PriorityQueue()\n",
        "cp.enqueue(1,\"niñas\")\n",
        "cp.enqueue(2,\"niños\")\n",
        "cp.to_string()"
      ],
      "execution_count": 45,
      "outputs": [
        {
          "output_type": "stream",
          "name": "stdout",
          "text": [
            "| niñas | <--\n",
            "| niños | <--\n"
          ]
        }
      ]
    },
    {
      "cell_type": "code",
      "metadata": {
        "id": "2L7XN-uoTJET"
      },
      "source": [
        "ed ={\n",
        "    {\"prioridad\": 1 , \"cola\":Queue()},\n",
        "    {\"prioridad\": 2 , \"cola\":Queue()},\n",
        "    {\"prioridad\": 4 , \"cola\":Queue()},\n",
        "    {\"prioridad\": 20 , \"cola\":Queue()},\n",
        "    {\"prioridad\": 100 , \"cola\":Queue()},\n",
        "    {\"prioridad\": 3 , \"cola\":Queue()},\n",
        "}"
      ],
      "execution_count": null,
      "outputs": []
    }
  ]
}