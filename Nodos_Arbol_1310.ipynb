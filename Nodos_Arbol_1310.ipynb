{
  "nbformat": 4,
  "nbformat_minor": 0,
  "metadata": {
    "colab": {
      "name": "Nodos_Arbol_1310.ipynb",
      "provenance": [],
      "authorship_tag": "ABX9TyMFi8S8XkOuu/BVZ/GRGK+5",
      "include_colab_link": true
    },
    "kernelspec": {
      "name": "python3",
      "display_name": "Python 3"
    },
    "language_info": {
      "name": "python"
    }
  },
  "cells": [
    {
      "cell_type": "markdown",
      "metadata": {
        "id": "view-in-github",
        "colab_type": "text"
      },
      "source": [
        "<a href=\"https://colab.research.google.com/github/LESRLUEN/Trabajo_en_clase_EDD/blob/main/Nodos_Arbol_1310.ipynb\" target=\"_parent\"><img src=\"https://colab.research.google.com/assets/colab-badge.svg\" alt=\"Open In Colab\"/></a>"
      ]
    },
    {
      "cell_type": "code",
      "metadata": {
        "id": "xCLjvu_wBqrh"
      },
      "source": [
        "class NodoBinario:\n",
        "    def __init__( self, value , left=None , right = None ):\n",
        "        self.data = value\n",
        "        self.left = left\n",
        "        self.right = right\n",
        "\n",
        "class NodoTernario:\n",
        "    def __init__( self, value , left=None , center=None , right = None ):\n",
        "        self.data = value\n",
        "        self.left = left\n",
        "        self.center = center\n",
        "        self.right = right\n",
        "\n",
        "\n",
        "\n",
        "\n",
        "\n",
        "\n",
        "\n"
      ],
      "execution_count": 1,
      "outputs": []
    },
    {
      "cell_type": "code",
      "metadata": {
        "colab": {
          "base_uri": "https://localhost:8080/"
        },
        "id": "7b99Y9E2D8DX",
        "outputId": "738c0913-2cd9-45a1-f8f4-69aedfe10aa4"
      },
      "source": [
        "arbol1 = NodoBinario( \"R\" , NodoBinario(\"C\") , NodoBinario(\"H\") )\n",
        "print( arbol1.right.data)\n",
        "\n",
        "arbol2 = NodoTernario( 4 , NodoTernario( 3 , NodoTernario(5 , left=NodoTernario(2) ) \\\n",
        "        , NodoTernario(5) , NodoTernario(2) )  , None , NodoTernario(5) )\n",
        "print( arbol2.left.right.data)\n",
        "print( arbol2.data)\n",
        "print( arbol2.left.center.data)\n",
        "print( arbol2.right.left)\n",
        "print( arbol2.left.left.left.data)\n",
        "print(\"----- sin usar la palabra print ----\")\n",
        "ejemplo = arbol2.left.left.left.data\n",
        "print(ejemplo)\n",
        "print(\"---- otra forma ----\")\n",
        "aux = arbol2\n",
        "while( aux.left != None):\n",
        "    aux = aux.left\n",
        "print( aux.data )"
      ],
      "execution_count": 2,
      "outputs": [
        {
          "output_type": "stream",
          "name": "stdout",
          "text": [
            "H\n",
            "2\n",
            "4\n",
            "5\n",
            "None\n",
            "2\n",
            "----- sin usar la palabra print ----\n",
            "2\n",
            "---- otra forma ----\n",
            "2\n"
          ]
        }
      ]
    },
    {
      "cell_type": "code",
      "metadata": {
        "id": "DVRGXpTBZRfY",
        "outputId": "36d3437f-e349-4071-f5da-5c8474d1f66f",
        "colab": {
          "base_uri": "https://localhost:8080/"
        }
      },
      "source": [
        "root = NodoBinario(\"Santi\",None,NodoBinario(\"Jesus\",NodoBinario(\"Pedro\",None,NodoBinario(\" Pedro jr\"))))\n",
        "print(root.right.left.right.data)"
      ],
      "execution_count": 3,
      "outputs": [
        {
          "output_type": "stream",
          "name": "stdout",
          "text": [
            " Pedro jr\n"
          ]
        }
      ]
    }
  ]
}