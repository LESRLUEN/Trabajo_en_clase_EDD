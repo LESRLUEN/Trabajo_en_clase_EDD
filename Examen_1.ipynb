{
  "nbformat": 4,
  "nbformat_minor": 0,
  "metadata": {
    "colab": {
      "name": "Examen_1.ipynb",
      "provenance": [],
      "authorship_tag": "ABX9TyPLBsRWct/ZeyBWWhOCwBWo",
      "include_colab_link": true
    },
    "kernelspec": {
      "name": "python3",
      "display_name": "Python 3"
    },
    "language_info": {
      "name": "python"
    }
  },
  "cells": [
    {
      "cell_type": "markdown",
      "metadata": {
        "id": "view-in-github",
        "colab_type": "text"
      },
      "source": [
        "<a href=\"https://colab.research.google.com/github/LESRLUEN/Trabajo_en_clase_EDD/blob/main/Examen_1.ipynb\" target=\"_parent\"><img src=\"https://colab.research.google.com/assets/colab-badge.svg\" alt=\"Open In Colab\"/></a>"
      ]
    },
    {
      "cell_type": "code",
      "metadata": {
        "id": "Jy0vJL-71lnm"
      },
      "source": [
        "class Nodo:\n",
        "    def __init__(self , value, siguiente = None ):\n",
        "        self.data = value\n",
        "        self.next = siguiente"
      ],
      "execution_count": 1,
      "outputs": []
    },
    {
      "cell_type": "code",
      "metadata": {
        "id": "4vXnwrMU1uxk"
      },
      "source": [
        "class ListaLigada:\n",
        "    def __init__(self):\n",
        "        self.head = None\n",
        "\n",
        "    def is_empty(self):\n",
        "        return self.head == None\n",
        "\n",
        "    def get_tail(self):\n",
        "        if self.is_empty():\n",
        "            return None\n",
        "        else:\n",
        "            curr_node = self.head\n",
        "            while curr_node.next != None:\n",
        "                curr_node = curr_node.next\n",
        "            return curr_node\n",
        "\n",
        "    def remove(self , value):\n",
        "        if self.head == None:\n",
        "            print(\"Lista vacía, no se puede remover nada\")\n",
        "        else:\n",
        "            curr_node = self.head\n",
        "            aux= None\n",
        "            while curr_node.data != value :\n",
        "                aux= curr_node\n",
        "                curr_node = curr_node.next\n",
        "\n",
        "            if curr_node != None:\n",
        "                  aux.next = curr_node.next  \n",
        "                  curr_node = None\n",
        " \n",
        "\n",
        "    def transversal(self):\n",
        "        curr_node = self.head\n",
        "        while curr_node !=None:\n",
        "            print(f\"| { curr_node.data} | --> \", end=\"\")\n",
        "            curr_node = curr_node.next\n",
        "        print(\"\")\n",
        "\n",
        "    def append(self , value):\n",
        "        if self.head == None:\n",
        "            self.head = Nodo( value )\n",
        "        else:\n",
        "            curr_node =self.head\n",
        "            while curr_node.next !=None:\n",
        "                curr_node = curr_node.next\n",
        "            curr_node.next = Nodo( value )      \n",
        "\n",
        "    def prepend(self , value):\n",
        "        if self.head == None:\n",
        "            print(\" Está vacío, no se puede hacer preppend\")\n",
        "        else:\n",
        "            self.head = Nodo( value , self.head)\n",
        "\n",
        "    def add_after(self, prev, dato):\n",
        "      curr_node = self.head\n",
        "      while curr_node != None:\n",
        "        if curr_node.data == prev:\n",
        "          tmp = curr_node.next\n",
        "          curr_node.next = Nodo(dato,tmp)\n",
        "          break\n",
        "        curr_node = curr_node.next"
      ],
      "execution_count": 9,
      "outputs": []
    },
    {
      "cell_type": "code",
      "metadata": {
        "colab": {
          "base_uri": "https://localhost:8080/"
        },
        "id": "XBvNj36k2bT8",
        "outputId": "c65deb36-b5e8-4811-f9a4-6f51e6ec995f"
      },
      "source": [
        "lista = ListaLigada()\n",
        "lista.append(40)\n",
        "lista.append(50)\n",
        "lista.append(55)\n",
        "lista.append(65)\n",
        "print(\"Lista original:\")\n",
        "lista.transversal()\n",
        "\n",
        "lista.add_after(40,45)\n",
        "\n",
        "print(\"\\nLista después de agregar Nodo 45 después del 40 y antes del 50: \")\n",
        "lista.transversal()\n",
        "\n",
        "lista.add_after(55,60)\n",
        "\n",
        "print(\"\\nLista después de agregar Nodo 60 después del 55 y antes del 65: \")\n",
        "lista.transversal()\n",
        "\n",
        "lista.remove(65);\n",
        "\n",
        "print(\"\\nLista después de eliminar el Nodo 65: \")\n",
        "lista.transversal()"
      ],
      "execution_count": 10,
      "outputs": [
        {
          "output_type": "stream",
          "name": "stdout",
          "text": [
            "Lista original:\n",
            "| 40 | --> | 50 | --> | 55 | --> | 65 | --> \n",
            "\n",
            "Lista después de agregar Nodo 45 después del 40 y antes del 50: \n",
            "| 40 | --> | 45 | --> | 50 | --> | 55 | --> | 65 | --> \n",
            "\n",
            "Lista después de agregar Nodo 60 después del 55 y antes del 65: \n",
            "| 40 | --> | 45 | --> | 50 | --> | 55 | --> | 60 | --> | 65 | --> \n",
            "\n",
            "Lista después de eliminar el Nodo 65: \n",
            "| 40 | --> | 45 | --> | 50 | --> | 55 | --> | 60 | --> \n"
          ]
        }
      ]
    }
  ]
}